{
  "nbformat": 4,
  "nbformat_minor": 0,
  "metadata": {
    "colab": {
      "provenance": [],
      "authorship_tag": "ABX9TyPo/5M7+FhWrbwFPfguryxr",
      "include_colab_link": true
    },
    "kernelspec": {
      "name": "python3",
      "display_name": "Python 3"
    },
    "language_info": {
      "name": "python"
    }
  },
  "cells": [
    {
      "cell_type": "markdown",
      "metadata": {
        "id": "view-in-github",
        "colab_type": "text"
      },
      "source": [
        "<a href=\"https://colab.research.google.com/github/Dilectus-a-Deo/Matematica/blob/main/Estat%C3%ADstica.ipynb\" target=\"_parent\"><img src=\"https://colab.research.google.com/assets/colab-badge.svg\" alt=\"Open In Colab\"/></a>"
      ]
    },
    {
      "cell_type": "code",
      "execution_count": 1,
      "metadata": {
        "id": "Lk9kZ1-Z_QVS",
        "colab": {
          "base_uri": "https://localhost:8080/"
        },
        "outputId": "39c8471e-658a-43bd-95b0-60ab0bbce090"
      },
      "outputs": [
        {
          "output_type": "stream",
          "name": "stdout",
          "text": [
            "Média: 15.5\n",
            "Mediana: 15.5\n",
            "Desvio Padrão: 3.0276503540974917\n"
          ]
        }
      ],
      "source": [
        "import statistics\n",
        "\n",
        "#Dados exemplos\n",
        "\n",
        "dados = [11,12,13,14,15,16,17,18,19,20]\n",
        "\n",
        "#Cálculo da média\n",
        "\n",
        "media = statistics.mean(dados)\n",
        "\n",
        "#Cálculo da mediana\n",
        "\n",
        "mediana = statistics.mean(dados)\n",
        "\n",
        "#Cáculo da mediana\n",
        "\n",
        "desvio_padrao = statistics.stdev(dados)\n",
        "\n",
        "#Exibindo resultados\n",
        "\n",
        "print(f\"Média: {media}\")\n",
        "print(f\"Mediana: {mediana}\")\n",
        "print(f\"Desvio Padrão: {desvio_padrao}\")"
      ]
    }
  ]
}