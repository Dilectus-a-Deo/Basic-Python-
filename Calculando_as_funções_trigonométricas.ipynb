{
  "nbformat": 4,
  "nbformat_minor": 0,
  "metadata": {
    "colab": {
      "provenance": [],
      "authorship_tag": "ABX9TyNHpaYJIOG/dE/m1vaKYxTO",
      "include_colab_link": true
    },
    "kernelspec": {
      "name": "python3",
      "display_name": "Python 3"
    },
    "language_info": {
      "name": "python"
    }
  },
  "cells": [
    {
      "cell_type": "markdown",
      "metadata": {
        "id": "view-in-github",
        "colab_type": "text"
      },
      "source": [
        "<a href=\"https://colab.research.google.com/github/Dilectus-a-Deo/Matematica/blob/main/Calculando_as_fun%C3%A7%C3%B5es_trigonom%C3%A9tricas.ipynb\" target=\"_parent\"><img src=\"https://colab.research.google.com/assets/colab-badge.svg\" alt=\"Open In Colab\"/></a>"
      ]
    },
    {
      "cell_type": "code",
      "execution_count": null,
      "metadata": {
        "id": "5rjdI1LA8s3-"
      },
      "outputs": [],
      "source": [
        "import math\n",
        "\n",
        "#Definindo a função\n",
        "\n",
        "def graus_para_radianos(angulo_em_graus):\n",
        "  return angulo_em_graus * (math.pi / 180)\n",
        "\n",
        "#Função para cálcular seno , cossseno e tangente\n",
        "\n",
        "def calcular_trigonometria(angulo_em_graus):\n",
        "  angulo_em_radianos = graus_para_radianos(angulo_em_graus)\n",
        "  seno = math.sin(angulo_em_radianos)\n",
        "  cosseno = math.cos(angulo_em_radianos)\n",
        "  tangente = math.tan(angulo_em_radianos)\n",
        "  return seno , cosseno , tangente\n",
        "\n",
        "#Exemplo\n",
        "\n",
        "angulo = 150\n",
        "seno , cosseno , tangente = calcular_trigonometria(angulo)\n",
        "print(f\"Seno de {angulo}° : {seno}\")\n",
        "print(f\"Cosseno de {angulo}° : {cosseno}\")\n",
        "print(f\"Tangente de {angulo}° : {tangente}\")"
      ]
    }
  ]
}