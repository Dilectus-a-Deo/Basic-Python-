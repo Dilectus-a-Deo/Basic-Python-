{
  "nbformat": 4,
  "nbformat_minor": 0,
  "metadata": {
    "colab": {
      "provenance": [],
      "authorship_tag": "ABX9TyM7Cjbc828Wdqw8+C0QIrVp",
      "include_colab_link": true
    },
    "kernelspec": {
      "name": "python3",
      "display_name": "Python 3"
    },
    "language_info": {
      "name": "python"
    }
  },
  "cells": [
    {
      "cell_type": "markdown",
      "metadata": {
        "id": "view-in-github",
        "colab_type": "text"
      },
      "source": [
        "<a href=\"https://colab.research.google.com/github/Dilectus-a-Deo/Matematica/blob/main/Integral_de_uma_fun%C3%A7%C3%A3o_indefinida.ipynb\" target=\"_parent\"><img src=\"https://colab.research.google.com/assets/colab-badge.svg\" alt=\"Open In Colab\"/></a>"
      ]
    },
    {
      "cell_type": "code",
      "execution_count": 2,
      "metadata": {
        "colab": {
          "base_uri": "https://localhost:8080/"
        },
        "id": "AcVbcdsLvaoj",
        "outputId": "33e856b2-aac2-415b-b58d-2b64d18eb206"
      },
      "outputs": [
        {
          "output_type": "stream",
          "name": "stdout",
          "text": [
            "A integral indefinida de sin(x) em relação a x é -cos(x)\n"
          ]
        }
      ],
      "source": [
        "import sympy as sp\n",
        "\n",
        "x = sp.symbols(\"x\")\n",
        "funcao = sp.sin(x)\n",
        "\n",
        "integral = sp.integrate(funcao, x)\n",
        "print(f\"A integral indefinida de {funcao} em relação a x é {integral}\")"
      ]
    }
  ]
}