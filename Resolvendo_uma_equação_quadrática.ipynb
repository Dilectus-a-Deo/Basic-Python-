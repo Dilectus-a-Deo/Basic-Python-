{
  "nbformat": 4,
  "nbformat_minor": 0,
  "metadata": {
    "colab": {
      "provenance": [],
      "authorship_tag": "ABX9TyO59qLFhMz3XVfVmzDKnpKc",
      "include_colab_link": true
    },
    "kernelspec": {
      "name": "python3",
      "display_name": "Python 3"
    },
    "language_info": {
      "name": "python"
    }
  },
  "cells": [
    {
      "cell_type": "markdown",
      "metadata": {
        "id": "view-in-github",
        "colab_type": "text"
      },
      "source": [
        "<a href=\"https://colab.research.google.com/github/Dilectus-a-Deo/Matematica/blob/main/Resolvendo_uma_equa%C3%A7%C3%A3o_quadr%C3%A1tica.ipynb\" target=\"_parent\"><img src=\"https://colab.research.google.com/assets/colab-badge.svg\" alt=\"Open In Colab\"/></a>"
      ]
    },
    {
      "cell_type": "code",
      "source": [
        "import cmath\n",
        "\n",
        "def resolver_equacao_quadratica(a, b, c):\n",
        "    # Calculando o discriminante\n",
        "    delta = (b**2) - (4*a*c)\n",
        "\n",
        "    # Encontrando duas soluções\n",
        "    sol1 = (-b - cmath.sqrt(delta)) / (2 * a)\n",
        "    sol2 = (-b + cmath.sqrt(delta)) / (2 * a)\n",
        "\n",
        "    return sol1, sol2\n",
        "\n",
        "# Coeficientes\n",
        "\n",
        "a = 10\n",
        "b = 5\n",
        "c = 8\n",
        "\n",
        "# Chamando a função e exibindo as soluções\n",
        "\n",
        "solucao1, solucao2 = resolver_equacao_quadratica(a, b, c)\n",
        "print(f\"As soluções são {solucao1} e {solucao2}\")\n"
      ],
      "metadata": {
        "colab": {
          "base_uri": "https://localhost:8080/"
        },
        "id": "P-Lud-_J6v6d",
        "outputId": "c6817613-0245-4264-d8e1-fef467cb55be"
      },
      "execution_count": 7,
      "outputs": [
        {
          "output_type": "stream",
          "name": "stdout",
          "text": [
            "As soluções são (-0.25-0.8587782018658834j) e (-0.25+0.8587782018658834j)\n"
          ]
        }
      ]
    }
  ]
}